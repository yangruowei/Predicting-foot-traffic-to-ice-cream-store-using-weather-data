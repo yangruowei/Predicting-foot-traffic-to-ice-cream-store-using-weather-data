{
  "nbformat": 4,
  "nbformat_minor": 0,
  "metadata": {
    "colab": {
      "name": "Predicting foot-traffic to ice cream store using weather data (Proof of Concept)",
      "provenance": [],
      "collapsed_sections": []
    },
    "kernelspec": {
      "name": "python3",
      "display_name": "Python 3"
    }
  },
  "cells": [
    {
      "cell_type": "markdown",
      "metadata": {
        "id": "p3A3J64rSOCG"
      },
      "source": [
        "# Background"
      ]
    },
    {
      "cell_type": "markdown",
      "metadata": {
        "id": "ccovhOXSBM44"
      },
      "source": [
        "For this proof of concept, I  would like to examine if weather parameters can predict the number of visits to a particular ice cream store. The store is a specialty ice cream store located in Somerville, Massachusetts called the  \"[Tipping Cow](https://www.tippingcowicecream.com)\". It's a neighborhood favorite and claims to use only natural ingredients in its products. \n",
        "\n",
        "Foot-traffic data were obtained from SafeGraph's [patterns](https://docs.safegraph.com/v4.0/docs/places-schema#section-patterns) and weather data (GHCN-daily) were obtained from the [NOAA website](https://www.ncdc.noaa.gov/ghcn-daily-description). And please see the data dictionary of the variables used in this analysis [here](https://drive.google.com/file/d/1d2lGBzz9DQtp9IFCfvu0xk4hRxV0tAsz/view?usp=sharing).\n",
        "\n",
        "Some data processing was done before creating this Colab presentation. Specifically, store visits were broken up from monthly to daily. For weather data, because stations don't have full coverage of different aspects of weather, the store's county was selected (Middlesex county, MA) and a pivot table (mean-values) was created for all weather stations in the county. The year selected was 2018. "
      ]
    },
    {
      "cell_type": "markdown",
      "metadata": {
        "id": "znXYB94ISWx3"
      },
      "source": [
        "# Data preparation"
      ]
    },
    {
      "cell_type": "code",
      "metadata": {
        "id": "_Saf2kVa4Wql",
        "colab": {
          "base_uri": "https://localhost:8080/"
        },
        "outputId": "a4f63fb2-7a07-47b1-ac48-a9f47c8e1581"
      },
      "source": [
        "# install necessary pacakges\n",
        "!pip install statsmodels==0.12.1\n",
        "from scipy import stats, special, fft, signal as sig\n",
        "from statsmodels.tsa.seasonal import seasonal_decompose\n",
        "import statsmodels.api as sm\n",
        "from sklearn.feature_selection import SelectKBest\n",
        "from sklearn.feature_selection import f_regression\n",
        "from sklearn.model_selection import train_test_split\n",
        "import matplotlib.pyplot as plt\n",
        "import pandas as pd\n",
        "import seaborn as sns\n",
        "import numpy as np\n",
        "%matplotlib inline"
      ],
      "execution_count": null,
      "outputs": [
        {
          "output_type": "stream",
          "text": [
            "Requirement already satisfied: statsmodels==0.12.1 in /usr/local/lib/python3.6/dist-packages (0.12.1)\n",
            "Requirement already satisfied: scipy>=1.1 in /usr/local/lib/python3.6/dist-packages (from statsmodels==0.12.1) (1.4.1)\n",
            "Requirement already satisfied: patsy>=0.5 in /usr/local/lib/python3.6/dist-packages (from statsmodels==0.12.1) (0.5.1)\n",
            "Requirement already satisfied: pandas>=0.21 in /usr/local/lib/python3.6/dist-packages (from statsmodels==0.12.1) (1.1.4)\n",
            "Requirement already satisfied: numpy>=1.15 in /usr/local/lib/python3.6/dist-packages (from statsmodels==0.12.1) (1.18.5)\n",
            "Requirement already satisfied: six in /usr/local/lib/python3.6/dist-packages (from patsy>=0.5->statsmodels==0.12.1) (1.15.0)\n",
            "Requirement already satisfied: pytz>=2017.2 in /usr/local/lib/python3.6/dist-packages (from pandas>=0.21->statsmodels==0.12.1) (2018.9)\n",
            "Requirement already satisfied: python-dateutil>=2.7.3 in /usr/local/lib/python3.6/dist-packages (from pandas>=0.21->statsmodels==0.12.1) (2.8.1)\n"
          ],
          "name": "stdout"
        }
      ]
    },
    {
      "cell_type": "code",
      "metadata": {
        "colab": {
          "base_uri": "https://localhost:8080/"
        },
        "id": "LNiFEM8N9a_A",
        "outputId": "0fd53f0a-64d8-4ff6-f07b-3bc5003e9c0c"
      },
      "source": [
        "#download data from google shareable links\n",
        "!gdown --id 1dBnFVckgr2OP5nnyWSB4Vkfpa6SROn7f\n",
        "!gdown --id 1lQc3tK4ujp9HZJl2cerlBBeHpULdHcat"
      ],
      "execution_count": null,
      "outputs": [
        {
          "output_type": "stream",
          "text": [
            "Downloading...\n",
            "From: https://drive.google.com/uc?id=1dBnFVckgr2OP5nnyWSB4Vkfpa6SROn7f\n",
            "To: /content/day_visits_2018.csv\n",
            "100% 596k/596k [00:00<00:00, 39.6MB/s]\n",
            "Downloading...\n",
            "From: https://drive.google.com/uc?id=1lQc3tK4ujp9HZJl2cerlBBeHpULdHcat\n",
            "To: /content/weather_pivot.csv\n",
            "100% 60.5k/60.5k [00:00<00:00, 22.6MB/s]\n"
          ],
          "name": "stdout"
        }
      ]
    },
    {
      "cell_type": "code",
      "metadata": {
        "id": "I1Ns2ssE-UuF"
      },
      "source": [
        "#import data\n",
        "visits_df = pd.read_csv(\"day_visits_2018.csv\")\n",
        "weather_df = pd.read_csv(\"weather_pivot.csv\")"
      ],
      "execution_count": null,
      "outputs": []
    },
    {
      "cell_type": "code",
      "metadata": {
        "id": "sH8KrdWg5XhO",
        "colab": {
          "base_uri": "https://localhost:8080/",
          "height": 520
        },
        "outputId": "a3d3af2c-f14f-496e-ecc0-657fdc7dab84"
      },
      "source": [
        "# check the pattern for visits throughout the year\n",
        "\n",
        "visits = visits_df['day_visit_counts']\n",
        "visits_p= visits/max(visits)  #scale y as a proportion to the max visits within a day in the year\n",
        "signal = list(visits_p)\n",
        "signal_df = pd.DataFrame(signal)\n",
        "signal_df.columns = ['trend']\n",
        "print(signal_df)\n",
        "sns.lineplot(x=signal_df.index, y=signal_df['trend'])"
      ],
      "execution_count": null,
      "outputs": [
        {
          "output_type": "stream",
          "text": [
            "        trend\n",
            "0    0.333333\n",
            "1    0.238095\n",
            "2    0.095238\n",
            "3    0.428571\n",
            "4    0.428571\n",
            "..        ...\n",
            "360  0.333333\n",
            "361  0.095238\n",
            "362  0.190476\n",
            "363  0.238095\n",
            "364  0.095238\n",
            "\n",
            "[365 rows x 1 columns]\n"
          ],
          "name": "stdout"
        },
        {
          "output_type": "execute_result",
          "data": {
            "text/plain": [
              "<matplotlib.axes._subplots.AxesSubplot at 0x7ff010c98208>"
            ]
          },
          "metadata": {
            "tags": []
          },
          "execution_count": 45
        },
        {
          "output_type": "display_data",
          "data": {
            "image/png": "[encoded data removed]",
            "text/plain": [
              "<Figure size 432x288 with 1 Axes>"
            ]
          },
          "metadata": {
            "tags": [],
            "needs_background": "light"
          }
        }
      ]
    },
    {
      "cell_type": "markdown",
      "metadata": {
        "id": "rt5owBerAw5_"
      },
      "source": [
        "# Analysis"
      ]
    },
    {
      "cell_type": "code",
      "metadata": {
        "id": "S6Ro-2RRNkdB",
        "colab": {
          "base_uri": "https://localhost:8080/"
        },
        "outputId": "db0a0ce1-ddd7-4520-935d-33bd1420ec62"
      },
      "source": [
        "# Select the best weather features using kbestfeatures\n",
        "\n",
        "weather_vars = weather_df.drop(columns = ['DATE'])  #select only the weather variables\n",
        "weather_vars = weather_vars.fillna(0)  # fill missing data with 0s\n",
        "scaled_weather = weather_vars/weather_vars.max()  #also scale the weather variables to be proportional to the max value in the columns\n",
        "X = scaled_weather\n",
        "y = signal\n",
        "winning_model = None\n",
        "winning_score = -999\n",
        "for k in range(1, 15):\n",
        "  fs = SelectKBest(score_func=f_regression, k=k)\n",
        "  X_selected = fs.fit_transform(X, y)\n",
        "  filter = fs.get_support()\n",
        "  weather_selected = scaled_weather[scaled_weather.columns[filter]]\n",
        "  x = weather_selected\n",
        "  y = signal\n",
        "  x = sm.add_constant(x)\n",
        "  lr_model = sm.OLS(y, x).fit()\n",
        "  if lr_model.f_pvalue <= 0.05 and lr_model.rsquared_adj > winning_score:  #select the best model\n",
        "    winning_score = lr_model.rsquared_adj\n",
        "    winning_model = lr_model\n",
        "print(winning_model.summary(), winning_score)"
      ],
      "execution_count": null,
      "outputs": [
        {
          "output_type": "stream",
          "text": [
            "                            OLS Regression Results                            \n",
            "==============================================================================\n",
            "Dep. Variable:                      y   R-squared:                       0.017\n",
            "Model:                            OLS   Adj. R-squared:                  0.012\n",
            "Method:                 Least Squares   F-statistic:                     3.137\n",
            "Date:                Sat, 28 Nov 2020   Prob (F-statistic):             0.0446\n",
            "Time:                        22:47:53   Log-Likelihood:                 158.93\n",
            "No. Observations:                 365   AIC:                            -311.9\n",
            "Df Residuals:                     362   BIC:                            -300.2\n",
            "Df Model:                           2                                         \n",
            "Covariance Type:            nonrobust                                         \n",
            "==============================================================================\n",
            "                 coef    std err          t      P>|t|      [0.025      0.975]\n",
            "------------------------------------------------------------------------------\n",
            "const          0.2252      0.021     10.556      0.000       0.183       0.267\n",
            "PRCP           0.0706      0.044      1.603      0.110      -0.016       0.157\n",
            "TMIN           0.0620      0.035      1.788      0.075      -0.006       0.130\n",
            "==============================================================================\n",
            "Omnibus:                       38.943   Durbin-Watson:                   1.237\n",
            "Prob(Omnibus):                  0.000   Jarque-Bera (JB):               52.117\n",
            "Skew:                           0.762   Prob(JB):                     4.82e-12\n",
            "Kurtosis:                       4.051   Cond. No.                         6.23\n",
            "==============================================================================\n",
            "\n",
            "Notes:\n",
            "[1] Standard Errors assume that the covariance matrix of the errors is correctly specified. 0.01160592339665989\n"
          ],
          "name": "stdout"
        }
      ]
    },
    {
      "cell_type": "markdown",
      "metadata": {
        "id": "rCLcLAWNBwh1"
      },
      "source": [
        "We can see that the model adjusted R-squared is only 0.012. This gives the model very little explanatory power. The two coefficients are also non-significant. "
      ]
    },
    {
      "cell_type": "markdown",
      "metadata": {
        "id": "kIy5TX7fBrDR"
      },
      "source": [
        "# Check for Gauss-Markov assumptions"
      ]
    },
    {
      "cell_type": "markdown",
      "metadata": {
        "id": "3FmtaiDPCvET"
      },
      "source": [
        "The Gauss_markov assumptions to assess regression models are as follows: \n",
        "\n",
        "\n",
        "<u>Linearity:</u> the parameters we are estimating using the OLS method must be linear. \\\n",
        "<u>Random:</u> our data must have been randomly sampled from the population. \\\n",
        "<u>Non-Collinearity:</u> the regressors being calculated aren’t perfectly correlated with each other. \\\n",
        "<u>Exogeneity:</u> the regressors aren’t correlated with the error term. \\\n",
        "<u>Homoscedasticity:</u> no matter what the values of our regressors might be, the error of the variance is constant.\n",
        "\n",
        "Below, several functions are built to check if the best model found above satisfies these assumptions."
      ]
    },
    {
      "cell_type": "code",
      "metadata": {
        "id": "d4Y8yrhTVb0O"
      },
      "source": [
        "from scipy.stats import pearsonr, bartlett, levene, shapiro, normaltest, boxcox, PearsonRConstantInputWarning\n",
        "from warnings import simplefilter\n",
        "from statsmodels.tsa.stattools import acf"
      ],
      "execution_count": null,
      "outputs": []
    },
    {
      "cell_type": "code",
      "metadata": {
        "id": "lnC9XL0sy6Z6"
      },
      "source": [
        "def calculate_residuals(model, X, y, y_substitute=None):\n",
        "    X = sm.add_constant(X)\n",
        "    predictions = model.predict(X)\n",
        "    residuals = y - predictions\n",
        "    return residuals "
      ],
      "execution_count": null,
      "outputs": []
    },
    {
      "cell_type": "code",
      "metadata": {
        "id": "D8kDoyVLzYay"
      },
      "source": [
        "def has_multicolinearity(X, colinearity_threshold=0.6, ignore_nan=True, verbose=False):\n",
        "    columns = X.columns\n",
        "    print(f\"Testing for multicolinearity with a threshold of: {str(colinearity_threshold)}.\", verbose)\n",
        "    for column_under_test in columns:\n",
        "        for column in columns:\n",
        "            if column_under_test == column:\n",
        "                continue\n",
        "\n",
        "            simplefilter(\"ignore\", PearsonRConstantInputWarning)\n",
        "            result = pearsonr(X[column_under_test], X[column])\n",
        "            simplefilter(\"default\", PearsonRConstantInputWarning)\n",
        "            if np.isnan(result[0]) and not ignore_nan:\n",
        "                print('Constant detected, and ignore_nan is False. Model', verbose)\n",
        "                return True\n",
        "            elif np.isnan(result[0]):\n",
        "                continue \n",
        "\n",
        "            if abs(result[0]) >= colinearity_threshold:\n",
        "                print('Multicolinearity detected.', verbose)\n",
        "                return True\n",
        "    \n",
        "    print('No multicolinearity within the threshold detected.', verbose)\n",
        "    return False"
      ],
      "execution_count": null,
      "outputs": []
    },
    {
      "cell_type": "code",
      "metadata": {
        "id": "mm0MGAQr0GYj"
      },
      "source": [
        "def normal_test(X, ha_threshold=0.05, verbose=False):\n",
        "    print(f\"Testing the null hypothesis that the input is normally distributed with an alpha of {str(ha_threshold)}\", verbose)\n",
        "    result = shapiro(X)\n",
        "    if ha_threshold >= result[1]:\n",
        "        print(f\"The p-value of the result is {str(result[1])}, at or below the threshold of {str(ha_threshold)}, therefore we reject the null hypothesis and accept the alternate hypothesis that the input is not normally distributed.\", verbose)\n",
        "        return False\n",
        "\n",
        "    print(f\"The p-value of the result is {str(result[1])}, above the threshold of {str(ha_threshold)}, therefore we cannot reject the null hypothesis and accept that the input is normally distributed.\", verbose)\n",
        "    return True"
      ],
      "execution_count": null,
      "outputs": []
    },
    {
      "cell_type": "code",
      "metadata": {
        "id": "0cCPWkdP0ZnQ"
      },
      "source": [
        "def errors_autocorrelate(residuals, autocorrelation_threshold=0.6, nlags=40, fft=False, verbose=False):\n",
        "    print(f\"Testing if errors are autocorrelated with a threshold of {str(autocorrelation_threshold)} for up to {str(nlags)}.\", verbose)\n",
        "    result = acf(residuals, nlags=nlags, fft=fft)\n",
        "    test = abs(result[1:]) >= autocorrelation_threshold\n",
        "    if True in test:\n",
        "        print(f\"Autocorrelation at or above the threshold detected.\", verbose)\n",
        "        return True\n",
        "\n",
        "    print(f\"Autocorrelation at or above the threshold not detected.\", verbose)\n",
        "    return False"
      ],
      "execution_count": null,
      "outputs": []
    },
    {
      "cell_type": "code",
      "metadata": {
        "id": "6mvUIQ9d0wmF"
      },
      "source": [
        "def error_features_correlate(residuals, X, correlation_threshold=0.6, verbose=False):\n",
        "    print(f\"Testing that errors and features are not correlated with a threshold of {str(correlation_threshold)} or higher.\", verbose)\n",
        "    for column in X.columns:\n",
        "        a = X[column].to_numpy()\n",
        "        if (a[0] == a).all():\n",
        "            continue\n",
        "        result = pearsonr(residuals, X[column])\n",
        "        if abs(result[0]) >= correlation_threshold:\n",
        "            print(f\"Correlation between errors and features at or above the treshold detected in column: {column}\", verbose)\n",
        "            return True\n",
        "\n",
        "    print(f\"Correlation between errors and features at or above the treshold detected in column: {column}\", verbose)\n",
        "    return False "
      ],
      "execution_count": null,
      "outputs": []
    },
    {
      "cell_type": "code",
      "metadata": {
        "id": "1OCmlPSz02ov"
      },
      "source": [
        "def is_homoscedastic(residuals, y, ha_threshold=0.05, verbose=False):\n",
        "    print(f\"Testing for homoscedasticity with an alpha of: {str(ha_threshold)}. The null hypothesis is that the errors are homoscedastic.\", verbose)\n",
        "    result = bartlett(residuals, y)\n",
        "    if ha_threshold >= result[1]:\n",
        "        print(f\"P-value for Bartlett test is {str(result[1])} which is at or below the threshold. We therefore reject the null hypothesis and accept the errors are heteroscedastic.\", verbose)\n",
        "        return False\n",
        "\n",
        "    print(f\"P-value for Bartlett test is {str(result[1])} which is greater than the threshold. We therefore do not reject the null hypothesis and accept the errors are homoscedastic.\", verbose)\n",
        "    return True"
      ],
      "execution_count": null,
      "outputs": []
    },
    {
      "cell_type": "code",
      "metadata": {
        "id": "C4U-DLQPwOpt"
      },
      "source": [
        "def satisfies_gauss_markov(model, dataset, verbose=True):\n",
        "    X_train, _, y_train, _ = dataset\n",
        "    residuals = calculate_residuals(model, X_train, y_train)\n",
        "    no_multicolinearity = not has_multicolinearity(X_train, verbose=verbose)\n",
        "    normal_errors = normal_test(residuals, verbose=verbose)\n",
        "    no_autocorrelation = not errors_autocorrelate(residuals, verbose=verbose)\n",
        "    no_error_feature_correlation = not error_features_correlate(residuals, X_train, verbose=verbose)\n",
        "    homoscedasticity = is_homoscedastic(residuals, y_train, verbose=verbose)\n",
        "    return [homoscedasticity, no_multicolinearity, normal_errors, no_autocorrelation, no_error_feature_correlation]"
      ],
      "execution_count": null,
      "outputs": []
    },
    {
      "cell_type": "code",
      "metadata": {
        "id": "feOZEX6HEbZv"
      },
      "source": [
        "# select weather columns from original data that are relevant for the model\n",
        "weather_X = scaled_weather[[\"PRCP\", \"TMIN\"]]"
      ],
      "execution_count": null,
      "outputs": []
    },
    {
      "cell_type": "code",
      "metadata": {
        "id": "8XHCW44ffhYi"
      },
      "source": [
        "# split to train and test data\n",
        "dataset = train_test_split(weather_X, y, test_size=0.33, random_state=42)"
      ],
      "execution_count": null,
      "outputs": []
    },
    {
      "cell_type": "code",
      "metadata": {
        "colab": {
          "base_uri": "https://localhost:8080/"
        },
        "id": "hxAq_3XxfvmQ",
        "outputId": "66a61a90-0365-4ce8-f8b8-22cecd58d918"
      },
      "source": [
        "satisfies_gauss_markov(winning_model, dataset)"
      ],
      "execution_count": null,
      "outputs": [
        {
          "output_type": "stream",
          "text": [
            "Testing for multicolinearity with a threshold of: 0.6. True\n",
            "No multicolinearity within the threshold detected. True\n",
            "Testing the null hypothesis that the input is normally distributed with an alpha of 0.05 True\n",
            "The p-value of the result is 2.0178044906060677e-06, at or below the threshold of 0.05, therefore we reject the null hypothesis and accept the alternate hypothesis that the input is not normally distributed. True\n",
            "Testing if errors are autocorrelated with a threshold of 0.6 for up to 40. True\n",
            "Autocorrelation at or above the threshold not detected. True\n",
            "Testing that errors and features are not correlated with a threshold of 0.6 or higher. True\n",
            "Correlation between errors and features at or above the treshold detected in column: TMIN True\n",
            "Testing for homoscedasticity with an alpha of: 0.05. The null hypothesis is that the errors are homoscedastic. True\n",
            "P-value for Bartlett test is 0.9299139186162817 which is greater than the threshold. We therefore do not reject the null hypothesis and accept the errors are homoscedastic. True\n"
          ],
          "name": "stdout"
        },
        {
          "output_type": "execute_result",
          "data": {
            "text/plain": [
              "[True, True, False, True, True]"
            ]
          },
          "metadata": {
            "tags": []
          },
          "execution_count": 59
        }
      ]
    },
    {
      "cell_type": "markdown",
      "metadata": {
        "id": "iQc-P7-8HkWX"
      },
      "source": [
        "We can see that all assumptions were met but not for the \"normal errors\" assumption. Although the Gauss-Markov theorem does not explicitly require errors to be normally distributed, a deviation of normality might make the results inaccurate."
      ]
    },
    {
      "cell_type": "markdown",
      "metadata": {
        "id": "RgCuR0EtCdCO"
      },
      "source": [
        "# Concluion"
      ]
    },
    {
      "cell_type": "markdown",
      "metadata": {
        "id": "wvSVctFkIy2E"
      },
      "source": [
        "Given the model performance, it is hard to state there is much correlation between weather and customer visits to the ice cream store. However, this specialty store might not be representative of a wide variety of ice cream stores as it is more of a mom and pop store, which might have a loyal client base who wouldn't base their decisions of getting ice cream on the weather on a particular day. In the next step, I will look at all ice cream stores in the greater Boston area and examine if the weather would predict store visits aggregately.  "
      ]
    }
  ]
}